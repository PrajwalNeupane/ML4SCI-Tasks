{
 "cells": [
  {
   "cell_type": "code",
   "execution_count": 31,
   "id": "a20329a9",
   "metadata": {},
   "outputs": [],
   "source": [
    "import cirq\n",
    "import math "
   ]
  },
  {
   "cell_type": "code",
   "execution_count": 35,
   "id": "986f30a7",
   "metadata": {},
   "outputs": [],
   "source": [
    "# initialize the circuit\n",
    "circuit = cirq.Circuit()\n",
    "\n",
    "# initialize the qubits and put them in a list\n",
    "(q0, q1, q2, q3, q4) = cirq.LineQubit.range(5)\n",
    "qubits = [q0, q1, q2, q3, q4]\n",
    "\n",
    "# loop through list of qubits and apply the Hadamard operation\n",
    "for qubit in qubits:\n",
    "    circuit.append([cirq.H(qubit)])\n",
    "    \n",
    "# apply the given CNOT operation\n",
    "circuit.append([cirq.CNOT(q0, q1), cirq.CNOT(q1, q2), cirq.CNOT(q2, q3), cirq.CNOT(q3, q4)])\n",
    "\n",
    "# apply the given SWAP operation \n",
    "circuit.append([cirq.SWAP(q0, q4)])\n",
    "\n",
    "# applying roation \n",
    "circuit.append([cirq.rx(math.pi/2).on(q1)])\n"
   ]
  },
  {
   "cell_type": "code",
   "execution_count": 36,
   "id": "2ab42add",
   "metadata": {},
   "outputs": [
    {
     "data": {
      "text/html": [
       "<pre style=\"overflow: auto; white-space: pre;\">0: ───H───@──────────────────────×───\n",
       "          │                      │\n",
       "1: ───H───X───@───Rx(0.5π)───────┼───\n",
       "              │                  │\n",
       "2: ───H───────X───@──────────────┼───\n",
       "                  │              │\n",
       "3: ───H───────────X──────────@───┼───\n",
       "                             │   │\n",
       "4: ───H──────────────────────X───×───</pre>"
      ],
      "text/plain": [
       "0: ───H───@──────────────────────×───\n",
       "          │                      │\n",
       "1: ───H───X───@───Rx(0.5π)───────┼───\n",
       "              │                  │\n",
       "2: ───H───────X───@──────────────┼───\n",
       "                  │              │\n",
       "3: ───H───────────X──────────@───┼───\n",
       "                             │   │\n",
       "4: ───H──────────────────────X───×───"
      ]
     },
     "execution_count": 36,
     "metadata": {},
     "output_type": "execute_result"
    }
   ],
   "source": [
    "circuit"
   ]
  },
  {
   "cell_type": "code",
   "execution_count": 32,
   "id": "148edfcf",
   "metadata": {},
   "outputs": [
    {
     "name": "stdout",
     "output_type": "stream",
     "text": [
      "3.141592653589793\n"
     ]
    }
   ],
   "source": [
    "print(math.pi)"
   ]
  },
  {
   "cell_type": "code",
   "execution_count": null,
   "id": "6e80c1d2",
   "metadata": {},
   "outputs": [],
   "source": []
  }
 ],
 "metadata": {
  "kernelspec": {
   "display_name": "Python 3 (ipykernel)",
   "language": "python",
   "name": "python3"
  },
  "language_info": {
   "codemirror_mode": {
    "name": "ipython",
    "version": 3
   },
   "file_extension": ".py",
   "mimetype": "text/x-python",
   "name": "python",
   "nbconvert_exporter": "python",
   "pygments_lexer": "ipython3",
   "version": "3.10.9"
  }
 },
 "nbformat": 4,
 "nbformat_minor": 5
}
